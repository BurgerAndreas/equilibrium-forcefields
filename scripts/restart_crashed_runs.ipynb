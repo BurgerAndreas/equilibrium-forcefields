{
 "cells": [
  {
   "cell_type": "code",
   "execution_count": 66,
   "metadata": {},
   "outputs": [],
   "source": [
    "import seaborn as sns\n",
    "import matplotlib.pyplot as plt\n",
    "import pandas as pd\n",
    "import numpy as np\n",
    "import wandb\n",
    "import copy\n",
    "import os, sys, pathlib\n",
    "import yaml\n",
    "import json\n",
    "import requests\n",
    "import datetime\n",
    "\n",
    "from deq2ff.plotting.style import (\n",
    "    set_seaborn_style,\n",
    "    PALETTE,\n",
    "    entity,\n",
    "    projectmd,\n",
    "    projectoc,\n",
    "    plotfolder,\n",
    ")"
   ]
  },
  {
   "cell_type": "code",
   "execution_count": 67,
   "metadata": {},
   "outputs": [],
   "source": [
    "def get_runs_from_wandb(\n",
    "    project=projectmd,\n",
    "    filters={\n",
    "        # \"tags\": \"inference2\",\n",
    "        # \"$and\": [{\"tags\": \"md17\"}, {\"tags\": \"eval\"}],\n",
    "        # \"state\": \"finished\",\n",
    "        # \"$or\": [{\"tags\": \"md17\"}, {\"tags\": \"main2\"}, {\"tags\": \"inference\"}],\n",
    "        # \"state\": \"crashed\",\n",
    "        \"$or\": [{\"state\": \"failed\"}, {\"state\": \"crashed\"}],\n",
    "    },\n",
    "    fname=\"\",\n",
    "    hours_since=48,\n",
    "):\n",
    "    \"\"\"Download runs from wandb.\"\"\"\n",
    "    # hosts, hostname = [\"tacozoid11\", \"tacozoid10\"], \"taco\"\n",
    "    fname = f\"runs_p_{project.replace('project', '')}\" + fname\n",
    "    fullfname = f\"{plotfolder}/{fname}.csv\"\n",
    "\n",
    "    api = wandb.Api()\n",
    "    runs = api.runs(\n",
    "        project,\n",
    "        filters,\n",
    "    )\n",
    "    run_ids = [run.id for run in runs]\n",
    "    print(f\"Found {len(run_ids)} runs:\")\n",
    "\n",
    "    infos_acc = []\n",
    "    for run in runs:\n",
    "        # filters\n",
    "        # host = requests.get(run.file(\"wandb-metadata.json\").url).json()[\"host\"]\n",
    "        # if host not in hosts:\n",
    "        #     print(f\"Skipping run {run.id} {run.name} because of host={host}\")\n",
    "        #     continue\n",
    "\n",
    "        # print([\n",
    "        #     k for k in run.summary.keys() \n",
    "        #     if \n",
    "        #     k.startswith(\"_\")\n",
    "        #     # (not \"gradient\" in k) \n",
    "        #     # and (not \"config\" in k)\n",
    "        #     # and (not \"summary\" in k)\n",
    "        # ])\n",
    "\n",
    "        # print(run.summary[\"_timestamp\"])\n",
    "        # print(run.summary[\"_runtime\"])\n",
    "        # print(run.summary[\"_step\"])\n",
    "\n",
    "        # timestep is of format 1722367178.5828128\n",
    "        # convert to datetime\n",
    "        if \"_timestamp\" not in run.summary:\n",
    "            # print(f\"Skipping run {run.id} {run.name} because of missing _timestamp\")\n",
    "            # runs never started, failed before logging the first step\n",
    "            continue\n",
    "        timestemp = run.summary[\"_timestamp\"]\n",
    "        date = datetime.datetime.fromtimestamp(timestemp)\n",
    "        # remove microseconds\n",
    "        # date = date.strftime(\"%Y-%m-%d %H:%M:%S\")\n",
    "\n",
    "        # filter if run is older than .. hours\n",
    "        if datetime.datetime.now() - date > datetime.timedelta(hours=hours_since):\n",
    "            # print(f\"Skipping run {run.id} {run.name} because of time\")\n",
    "            continue\n",
    "        \n",
    "        # runtime is of format 215989.28339982033\n",
    "        # convert to hours\n",
    "        hours = run.summary[\"_runtime\"] / 3600\n",
    "\n",
    "        info = {\n",
    "            \"run_id\": run.id,\n",
    "            \"run_name\": run.name,\n",
    "            \"date\": date,\n",
    "            \"hours\": hours,\n",
    "            # \"config\": run.config,\n",
    "            # \"summary\": run.summary,\n",
    "        }\n",
    "        # flatten the config and summary dictionaries\n",
    "        for key, value in run.config.items():\n",
    "            # check if config_key is a dictionary\n",
    "            if isinstance(run.config[key], dict):\n",
    "                for k2, v2 in run.config[key].items():\n",
    "                    info[f\"config.{key}.{k2}\"] = run.config[key][k2]\n",
    "            else:\n",
    "                info[f\"config.{key}\"] = run.config[key]\n",
    "        for summary_key in run.summary.keys():\n",
    "            info[f\"summary.{summary_key}\"] = run.summary[summary_key]\n",
    "\n",
    "        # metadata\n",
    "        # host = requests.get(run.file(\"wandb-metadata.json\").url).json()[\"host\"]\n",
    "        # info[\"host\"] = host\n",
    "\n",
    "        infos_acc.append(info)\n",
    "\n",
    "    df = pd.DataFrame(infos_acc)\n",
    "\n",
    "\n",
    "    return df"
   ]
  },
  {
   "cell_type": "code",
   "execution_count": 68,
   "metadata": {},
   "outputs": [],
   "source": [
    "def print_restart_commands(\n",
    "        _df, project=projectmd,\n",
    "        ignore_overrides=[\"wandb_tags\"],\n",
    "    ):\n",
    "    if project == projectmd:\n",
    "        prefix = \"launchrun\"\n",
    "        tag = \"['speedmd_v1']\"\n",
    "    elif project == projectoc:\n",
    "        prefix = \"launchoc\"\n",
    "        tag = \"['speedoc_v1']\"\n",
    "\n",
    "    # df[[\"config.override_dirname\"]]\n",
    "    # print(\" \")\n",
    "    _num_runs = 0\n",
    "    for i, row in _df.iterrows():\n",
    "        overrides = row[\"config.override_dirname\"].split(\",\")\n",
    "        _overrides = []\n",
    "        for o in overrides:\n",
    "            _add = True\n",
    "            for so in ignore_overrides:\n",
    "                if so in o:\n",
    "                    _add = False\n",
    "                    break\n",
    "                \n",
    "            if _add:\n",
    "                _overrides.append(o)\n",
    "        overrides = \" \".join([f\"{o}\" for o in _overrides])\n",
    "        \n",
    "        # if \"config.target\" in row:\n",
    "        if project == projectmd:\n",
    "            target = \" target=\" + row[\"config.target\"]\n",
    "        else:\n",
    "            target = \"\"\n",
    "        print(\n",
    "            f\"{prefix} {overrides}{target}\",\n",
    "            # f\"+inf=bs1 +deq_kwargs_fpr.f_tol=1e-1 wandb_tags={tag}\",\n",
    "        )"
   ]
  },
  {
   "cell_type": "code",
   "execution_count": 69,
   "metadata": {},
   "outputs": [
    {
     "name": "stdout",
     "output_type": "stream",
     "text": [
      "Found 177 runs:\n"
     ]
    }
   ],
   "source": [
    "dfmd = get_runs_from_wandb(project=projectmd)"
   ]
  },
  {
   "cell_type": "code",
   "execution_count": 70,
   "metadata": {},
   "outputs": [
    {
     "name": "stdout",
     "output_type": "stream",
     "text": [
      "launchrun +cfg=apt +use=deq dname=md22 target=dw_nanotube target=dw_nanotube\n",
      "launchrun +cfg=ap +use=deq dname=md22 target=dw_nanotube target=dw_nanotube\n",
      "launchrun +cfg=ap +use=deq dname=md22 model.num_layers=2 target=dw_nanotube target=dw_nanotube\n",
      "launchrun +cfg=apt +use=deq dname=md22 model.num_layers=2 target=dw_nanotube target=dw_nanotube\n",
      "launchrun +cfg=ap +use=deq target=aspirin\n",
      "launchrun +cfg=apz +use=deq dname=md22 target=buckyball_catcher target=buckyball_catcher\n",
      "launchrun +cfg=dd dname=md22 model.num_layers=1 preset=reg target=stachyose target=stachyose\n",
      "launchrun +cfg=ap +use=deq target=malonaldehyde target=malonaldehyde\n",
      "launchrun +cfg=apz +use=deq dname=md22 model.num_layers=2 target=DHA target=DHA\n",
      "launchrun +cfg=ap +use=deq dname=md22 model.ln=pre target=DHA target=DHA\n",
      "launchrun +cfg=apz +use=deq dname=md22 model.ln=pre target=DHA target=DHA\n",
      "launchrun +cfg=apz +use=deq dname=md22 model.ln=pre target=stachyose target=stachyose\n",
      "launchrun +cfg=apz +use=deq dname=md22 target=stachyose target=stachyose\n",
      "launchrun +cfg=apz +use=deq dname=md22 model.ln=pre model.num_layers=2 target=stachyose target=stachyose\n"
     ]
    }
   ],
   "source": [
    "print_restart_commands(dfmd, project=projectmd, ignore_overrides=[\"load_checkpoint\"])"
   ]
  },
  {
   "cell_type": "code",
   "execution_count": 71,
   "metadata": {},
   "outputs": [
    {
     "name": "stdout",
     "output_type": "stream",
     "text": [
      "Found 62 runs:\n"
     ]
    }
   ],
   "source": [
    "dfoc = get_runs_from_wandb(project=projectoc)"
   ]
  },
  {
   "cell_type": "code",
   "execution_count": 72,
   "metadata": {},
   "outputs": [
    {
     "name": "stdout",
     "output_type": "stream",
     "text": [
      "launchoc +cfg=dd model.lmax_list=[6] preset=reg\n",
      "launchoc +cfg=apt +use=deq model.lmax_list=[6] preset=reg\n",
      "launchoc +cfg=ap +use=deq model.lmax_list=[6] preset=reg\n",
      "launchoc +cfg=ap +use=deq model.ln=pre preset=reg\n",
      "launchoc +cfg=ap +use=deq deq_kwargs.n_states=3 model.ln=pre preset=reg\n",
      "launchoc +cfg=ap +dum=1 +use=deq preset=reg\n"
     ]
    }
   ],
   "source": [
    "print_restart_commands(dfoc, project=projectoc)"
   ]
  }
 ],
 "metadata": {
  "kernelspec": {
   "display_name": "deq",
   "language": "python",
   "name": "python3"
  },
  "language_info": {
   "codemirror_mode": {
    "name": "ipython",
    "version": 3
   },
   "file_extension": ".py",
   "mimetype": "text/x-python",
   "name": "python",
   "nbconvert_exporter": "python",
   "pygments_lexer": "ipython3",
   "version": "3.9.19"
  }
 },
 "nbformat": 4,
 "nbformat_minor": 2
}

{
 "cells": [
  {
   "cell_type": "code",
   "execution_count": 1,
   "metadata": {},
   "outputs": [],
   "source": [
    "import seaborn as sns\n",
    "import matplotlib.pyplot as plt\n",
    "import pandas as pd\n",
    "import numpy as np\n",
    "import wandb\n",
    "import copy\n",
    "import os, sys, pathlib\n",
    "import yaml\n",
    "import json\n",
    "import requests\n",
    "import datetime\n",
    "\n",
    "from deq2ff.plotting.style import (\n",
    "    set_seaborn_style,\n",
    "    PALETTE,\n",
    "    entity,\n",
    "    projectmd,\n",
    "    projectoc,\n",
    "    plotfolder,\n",
    ")\n",
    "\n",
    "from deq2ff.plotting.dashboard import get_runs_status_from_wandb, print_restart_commands"
   ]
  },
  {
   "cell_type": "code",
   "execution_count": 2,
   "metadata": {},
   "outputs": [
    {
     "name": "stdout",
     "output_type": "stream",
     "text": [
      "pDEQs apt md22 dwnanotube dwnanotube\n",
      "48692\n",
      " epoch=436 / 500\n",
      " date=02 00:04\n",
      " hours=60.01\n",
      "pDEQs ap md22 numlayers-2 dwnanotube dwnanotube\n",
      "48694\n",
      " epoch=233 / 500\n",
      " date=02 00:03\n",
      " hours=60.00\n",
      "pDEQs ap md22 dwnanotube dwnanotube\n",
      "48693\n",
      " epoch=437 / 500\n",
      " date=02 00:04\n",
      " hours=60.00\n",
      "pDEQs apt md22 numlayers-2 dwnanotube dwnanotube\n",
      "48695\n",
      " epoch=242 / 500\n",
      " date=02 00:03\n",
      " hours=60.00\n",
      "pEs dd md22 reg dwnanotube\n",
      "48778\n",
      " epoch=0 / 500\n",
      " date=01 20:14\n",
      " hours=0.00\n",
      "pDEQs ap2 md22 reg dwnanotube\n",
      "48779\n",
      " epoch=0 / 500\n",
      " date=01 20:41\n",
      " hours=0.45\n",
      "pEs dd md22 reg dwnanotube dwnanotube\n",
      "48796\n",
      " epoch=0 / 500\n",
      " date=02 09:15\n",
      " hours=0.00\n"
     ]
    }
   ],
   "source": [
    "dfmd = get_runs_status_from_wandb(project=projectmd)"
   ]
  },
  {
   "cell_type": "code",
   "execution_count": 3,
   "metadata": {},
   "outputs": [
    {
     "name": "stdout",
     "output_type": "stream",
     "text": [
      "launchrun +cfg=apt +use=deq dname=md22 target=dw_nanotube target=dw_nanotube target=dw_nanotube\n",
      "launchrun +cfg=ap +use=deq dname=md22 model.num_layers=2 target=dw_nanotube target=dw_nanotube target=dw_nanotube\n",
      "launchrun +cfg=ap +use=deq dname=md22 target=dw_nanotube target=dw_nanotube target=dw_nanotube\n",
      "launchrun +cfg=apt +use=deq dname=md22 model.num_layers=2 target=dw_nanotube target=dw_nanotube target=dw_nanotube\n",
      "launchrun +cfg=dd dname=md22 preset=reg target=dw_nanotube target=dw_nanotube\n",
      "launchrun +cfg=ap2 +use=deq dname=md22 preset=reg target=dw_nanotube target=dw_nanotube\n",
      "launchrun +cfg=dd dname=md22 preset=reg target=dw_nanotube target=dw_nanotube target=dw_nanotube\n"
     ]
    }
   ],
   "source": [
    "print_restart_commands(dfmd, project=projectmd, ignore_overrides=[\"load_checkpoint\"])"
   ]
  },
  {
   "cell_type": "code",
   "execution_count": 4,
   "metadata": {},
   "outputs": [
    {
     "name": "stdout",
     "output_type": "stream",
     "text": [
      "pDEQs ap2 lntype-lnsh reg\n",
      "48798\n",
      " epoch=1.4 / 3\n",
      " date=02 09:15\n",
      " hours=0.00\n"
     ]
    }
   ],
   "source": [
    "dfoc = get_runs_status_from_wandb(project=projectoc)"
   ]
  },
  {
   "cell_type": "code",
   "execution_count": 5,
   "metadata": {},
   "outputs": [
    {
     "name": "stdout",
     "output_type": "stream",
     "text": [
      "launchoc +cfg=ap2 +use=deq model.ln_type=layer_norm_sh preset=reg\n"
     ]
    }
   ],
   "source": [
    "print_restart_commands(dfoc, project=projectoc)"
   ]
  }
 ],
 "metadata": {
  "kernelspec": {
   "display_name": "deq",
   "language": "python",
   "name": "python3"
  },
  "language_info": {
   "codemirror_mode": {
    "name": "ipython",
    "version": 3
   },
   "file_extension": ".py",
   "mimetype": "text/x-python",
   "name": "python",
   "nbconvert_exporter": "python",
   "pygments_lexer": "ipython3",
   "version": "3.9.19"
  }
 },
 "nbformat": 4,
 "nbformat_minor": 2
}

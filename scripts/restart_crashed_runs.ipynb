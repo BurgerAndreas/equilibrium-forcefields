{
 "cells": [
  {
   "cell_type": "code",
   "execution_count": 1,
   "metadata": {},
   "outputs": [],
   "source": [
    "import seaborn as sns\n",
    "import matplotlib.pyplot as plt\n",
    "import pandas as pd\n",
    "import numpy as np\n",
    "import wandb\n",
    "import copy\n",
    "import os, sys, pathlib\n",
    "import yaml\n",
    "import json\n",
    "import requests\n",
    "import datetime\n",
    "\n",
    "from deq2ff.plotting.style import (\n",
    "    set_seaborn_style,\n",
    "    PALETTE,\n",
    "    entity,\n",
    "    projectmd,\n",
    "    projectoc,\n",
    "    plotfolder,\n",
    ")"
   ]
  },
  {
   "cell_type": "code",
   "execution_count": 2,
   "metadata": {},
   "outputs": [],
   "source": [
    "def get_runs_from_wandb(\n",
    "    project=projectmd,\n",
    "    filters={\n",
    "        # \"tags\": \"inference2\",\n",
    "        # \"$and\": [{\"tags\": \"md17\"}, {\"tags\": \"eval\"}],\n",
    "        # \"state\": \"finished\",\n",
    "        # \"$or\": [{\"tags\": \"md17\"}, {\"tags\": \"main2\"}, {\"tags\": \"inference\"}],\n",
    "        # \"state\": \"crashed\",\n",
    "        \"$or\": [{\"state\": \"failed\"}, {\"state\": \"crashed\"}],\n",
    "    },\n",
    "    fname=\"\",\n",
    "    hours_since=48,\n",
    "):\n",
    "    \"\"\"Download runs from wandb.\n",
    "    hours_since: since run finished / last something logged\n",
    "    \"\"\"\n",
    "    # hosts, hostname = [\"tacozoid11\", \"tacozoid10\"], \"taco\"\n",
    "    fname = f\"runs_p_{project.replace('project', '')}\" + fname\n",
    "    fullfname = f\"{plotfolder}/{fname}.csv\"\n",
    "\n",
    "    api = wandb.Api()\n",
    "    runs = api.runs(\n",
    "        project,\n",
    "        filters,\n",
    "    )\n",
    "    run_ids = [run.id for run in runs]\n",
    "    # print(f\"Found {len(run_ids)} runs:\")\n",
    "\n",
    "    infos_acc = []\n",
    "    for run in runs:\n",
    "        # filters\n",
    "        # host = requests.get(run.file(\"wandb-metadata.json\").url).json()[\"host\"]\n",
    "        # if host not in hosts:\n",
    "        #     print(f\"Skipping run {run.id} {run.name} because of host={host}\")\n",
    "        #     continue\n",
    "\n",
    "        # print([\n",
    "        #     k for k in run.summary.keys() \n",
    "        #     if \n",
    "        #     k.startswith(\"_\")\n",
    "        #     # (not \"gradient\" in k) \n",
    "        #     # and (not \"config\" in k)\n",
    "        #     # and (not \"summary\" in k)\n",
    "        # ])\n",
    "\n",
    "        # print(run.summary[\"_timestamp\"])\n",
    "        # print(run.summary[\"_runtime\"])\n",
    "        # print(run.summary[\"_step\"])\n",
    "\n",
    "        # timestep is of format 1722367178.5828128\n",
    "        # convert to datetime\n",
    "        if \"_timestamp\" not in run.summary:\n",
    "            # print(f\"Skipping run {run.id} {run.name} because of missing _timestamp\")\n",
    "            # runs never started, failed before logging the first step\n",
    "            continue\n",
    "        timestemp = run.summary[\"_timestamp\"]\n",
    "        date = datetime.datetime.fromtimestamp(timestemp)\n",
    "        # remove microseconds\n",
    "        # date = date.strftime(\"%Y-%m-%d %H:%M:%S\")\n",
    "\n",
    "        # filter if run is older than .. hours\n",
    "        if datetime.datetime.now() - date > datetime.timedelta(hours=hours_since):\n",
    "            # print(f\"Skipping run {run.id} {run.name} because of time\")\n",
    "            continue\n",
    "        \n",
    "        # runtime is of format 215989.28339982033\n",
    "        # convert to hours\n",
    "        hours = run.summary[\"_runtime\"] / 3600\n",
    "\n",
    "        info = {\n",
    "            \"run_id\": run.id,\n",
    "            \"run_name\": run.name,\n",
    "            \"date\": date,\n",
    "            \"hours\": hours,\n",
    "            # \"config\": run.config,\n",
    "            # \"summary\": run.summary,\n",
    "        }\n",
    "        # flatten the config and summary dictionaries\n",
    "        for key, value in run.config.items():\n",
    "            # check if config_key is a dictionary\n",
    "            if isinstance(run.config[key], dict):\n",
    "                for k2, v2 in run.config[key].items():\n",
    "                    info[f\"config.{key}.{k2}\"] = run.config[key][k2]\n",
    "            else:\n",
    "                info[f\"config.{key}\"] = run.config[key]\n",
    "        for summary_key in run.summary.keys():\n",
    "            info[f\"summary.{summary_key}\"] = run.summary[summary_key]\n",
    "\n",
    "        # metadata\n",
    "        # host = requests.get(run.file(\"wandb-metadata.json\").url).json()[\"host\"]\n",
    "        # info[\"host\"] = host\n",
    "\n",
    "        infos_acc.append(info)\n",
    "\n",
    "    df = pd.DataFrame(infos_acc)\n",
    "\n",
    "\n",
    "    return df"
   ]
  },
  {
   "cell_type": "code",
   "execution_count": 3,
   "metadata": {},
   "outputs": [],
   "source": [
    "def print_restart_commands(\n",
    "        _df, project=projectmd,\n",
    "        ignore_overrides=[\"wandb_tags\"],\n",
    "    ):\n",
    "    if project == projectmd:\n",
    "        prefix = \"launchrun\"\n",
    "        tag = \"['speedmd_v1']\"\n",
    "    elif project == projectoc:\n",
    "        prefix = \"launchoc\"\n",
    "        tag = \"['speedoc_v1']\"\n",
    "\n",
    "    # df[[\"config.override_dirname\"]]\n",
    "    # print(\" \")\n",
    "    _num_runs = 0\n",
    "    for i, row in _df.iterrows():\n",
    "        overrides = row[\"config.override_dirname\"].split(\",\")\n",
    "        _overrides = []\n",
    "        for o in overrides:\n",
    "            _add = True\n",
    "            for so in ignore_overrides:\n",
    "                if so in o:\n",
    "                    _add = False\n",
    "                    break\n",
    "                \n",
    "            if _add:\n",
    "                _overrides.append(o)\n",
    "        overrides = \" \".join([f\"{o}\" for o in _overrides])\n",
    "        \n",
    "        # if \"config.target\" in row:\n",
    "        if project == projectmd:\n",
    "            target = \" target=\" + row[\"config.target\"]\n",
    "        else:\n",
    "            target = \"\"\n",
    "        print(\n",
    "            f\"{prefix} {overrides}{target}\",\n",
    "            # f\"+inf=bs1 +deq_kwargs_fpr.f_tol=1e-1 wandb_tags={tag}\",\n",
    "        )"
   ]
  },
  {
   "cell_type": "code",
   "execution_count": 4,
   "metadata": {},
   "outputs": [
    {
     "name": "stdout",
     "output_type": "stream",
     "text": [
      "launchrun +cfg=ai +use=deq epochs=100 target=aspirin\n",
      "launchrun +cfg=ai +use=deq epochs=100 target=aspirin\n",
      "launchrun +cfg=ai +use=deq epochs=100 target=aspirin\n",
      "launchrun +cfg=ai +use=deq epochs=100 target=aspirin\n",
      "launchrun +cfg=ai +use=deq epochs=100 target=aspirin\n"
     ]
    }
   ],
   "source": [
    "dfmd = get_runs_from_wandb(project=projectmd, hours_since=48)\n",
    "print_restart_commands(dfmd, project=projectmd, ignore_overrides=[\"load_checkpoint\"])"
   ]
  },
  {
   "cell_type": "code",
   "execution_count": null,
   "metadata": {},
   "outputs": [],
   "source": []
  },
  {
   "cell_type": "code",
   "execution_count": 5,
   "metadata": {},
   "outputs": [
    {
     "ename": "ValueError",
     "evalue": "Could not find project oc20-iclr",
     "output_type": "error",
     "traceback": [
      "\u001b[0;31m---------------------------------------------------------------------------\u001b[0m",
      "\u001b[0;31mValueError\u001b[0m                                Traceback (most recent call last)",
      "Cell \u001b[0;32mIn[5], line 1\u001b[0m\n\u001b[0;32m----> 1\u001b[0m dfoc \u001b[38;5;241m=\u001b[39m \u001b[43mget_runs_from_wandb\u001b[49m\u001b[43m(\u001b[49m\u001b[43mproject\u001b[49m\u001b[38;5;241;43m=\u001b[39;49m\u001b[43mprojectoc\u001b[49m\u001b[43m)\u001b[49m\n",
      "Cell \u001b[0;32mIn[2], line 26\u001b[0m, in \u001b[0;36mget_runs_from_wandb\u001b[0;34m(project, filters, fname, hours_since)\u001b[0m\n\u001b[1;32m     21\u001b[0m api \u001b[38;5;241m=\u001b[39m wandb\u001b[38;5;241m.\u001b[39mApi()\n\u001b[1;32m     22\u001b[0m runs \u001b[38;5;241m=\u001b[39m api\u001b[38;5;241m.\u001b[39mruns(\n\u001b[1;32m     23\u001b[0m     project,\n\u001b[1;32m     24\u001b[0m     filters,\n\u001b[1;32m     25\u001b[0m )\n\u001b[0;32m---> 26\u001b[0m run_ids \u001b[38;5;241m=\u001b[39m [run\u001b[38;5;241m.\u001b[39mid \u001b[38;5;28;01mfor\u001b[39;00m run \u001b[38;5;129;01min\u001b[39;00m runs]\n\u001b[1;32m     27\u001b[0m \u001b[38;5;66;03m# print(f\"Found {len(run_ids)} runs:\")\u001b[39;00m\n\u001b[1;32m     29\u001b[0m infos_acc \u001b[38;5;241m=\u001b[39m []\n",
      "Cell \u001b[0;32mIn[2], line 26\u001b[0m, in \u001b[0;36m<listcomp>\u001b[0;34m(.0)\u001b[0m\n\u001b[1;32m     21\u001b[0m api \u001b[38;5;241m=\u001b[39m wandb\u001b[38;5;241m.\u001b[39mApi()\n\u001b[1;32m     22\u001b[0m runs \u001b[38;5;241m=\u001b[39m api\u001b[38;5;241m.\u001b[39mruns(\n\u001b[1;32m     23\u001b[0m     project,\n\u001b[1;32m     24\u001b[0m     filters,\n\u001b[1;32m     25\u001b[0m )\n\u001b[0;32m---> 26\u001b[0m run_ids \u001b[38;5;241m=\u001b[39m [run\u001b[38;5;241m.\u001b[39mid \u001b[38;5;28;01mfor\u001b[39;00m run \u001b[38;5;129;01min\u001b[39;00m runs]\n\u001b[1;32m     27\u001b[0m \u001b[38;5;66;03m# print(f\"Found {len(run_ids)} runs:\")\u001b[39;00m\n\u001b[1;32m     29\u001b[0m infos_acc \u001b[38;5;241m=\u001b[39m []\n",
      "File \u001b[0;32m~/miniforge3/envs/deq/lib/python3.9/site-packages/wandb/apis/paginator.py:75\u001b[0m, in \u001b[0;36mPaginator.__next__\u001b[0;34m(self)\u001b[0m\n\u001b[1;32m     73\u001b[0m \u001b[38;5;28mself\u001b[39m\u001b[38;5;241m.\u001b[39mindex \u001b[38;5;241m+\u001b[39m\u001b[38;5;241m=\u001b[39m \u001b[38;5;241m1\u001b[39m\n\u001b[1;32m     74\u001b[0m \u001b[38;5;28;01mif\u001b[39;00m \u001b[38;5;28mlen\u001b[39m(\u001b[38;5;28mself\u001b[39m\u001b[38;5;241m.\u001b[39mobjects) \u001b[38;5;241m<\u001b[39m\u001b[38;5;241m=\u001b[39m \u001b[38;5;28mself\u001b[39m\u001b[38;5;241m.\u001b[39mindex:\n\u001b[0;32m---> 75\u001b[0m     \u001b[38;5;28;01mif\u001b[39;00m \u001b[38;5;129;01mnot\u001b[39;00m \u001b[38;5;28;43mself\u001b[39;49m\u001b[38;5;241;43m.\u001b[39;49m\u001b[43m_load_page\u001b[49m\u001b[43m(\u001b[49m\u001b[43m)\u001b[49m:\n\u001b[1;32m     76\u001b[0m         \u001b[38;5;28;01mraise\u001b[39;00m \u001b[38;5;167;01mStopIteration\u001b[39;00m\n\u001b[1;32m     77\u001b[0m     \u001b[38;5;28;01mif\u001b[39;00m \u001b[38;5;28mlen\u001b[39m(\u001b[38;5;28mself\u001b[39m\u001b[38;5;241m.\u001b[39mobjects) \u001b[38;5;241m<\u001b[39m\u001b[38;5;241m=\u001b[39m \u001b[38;5;28mself\u001b[39m\u001b[38;5;241m.\u001b[39mindex:\n",
      "File \u001b[0;32m~/miniforge3/envs/deq/lib/python3.9/site-packages/wandb/apis/paginator.py:62\u001b[0m, in \u001b[0;36mPaginator._load_page\u001b[0;34m(self)\u001b[0m\n\u001b[1;32m     58\u001b[0m \u001b[38;5;28mself\u001b[39m\u001b[38;5;241m.\u001b[39mupdate_variables()\n\u001b[1;32m     59\u001b[0m \u001b[38;5;28mself\u001b[39m\u001b[38;5;241m.\u001b[39mlast_response \u001b[38;5;241m=\u001b[39m \u001b[38;5;28mself\u001b[39m\u001b[38;5;241m.\u001b[39mclient\u001b[38;5;241m.\u001b[39mexecute(\n\u001b[1;32m     60\u001b[0m     \u001b[38;5;28mself\u001b[39m\u001b[38;5;241m.\u001b[39mQUERY, variable_values\u001b[38;5;241m=\u001b[39m\u001b[38;5;28mself\u001b[39m\u001b[38;5;241m.\u001b[39mvariables\n\u001b[1;32m     61\u001b[0m )\n\u001b[0;32m---> 62\u001b[0m \u001b[38;5;28mself\u001b[39m\u001b[38;5;241m.\u001b[39mobjects\u001b[38;5;241m.\u001b[39mextend(\u001b[38;5;28;43mself\u001b[39;49m\u001b[38;5;241;43m.\u001b[39;49m\u001b[43mconvert_objects\u001b[49m\u001b[43m(\u001b[49m\u001b[43m)\u001b[49m)\n\u001b[1;32m     63\u001b[0m \u001b[38;5;28;01mreturn\u001b[39;00m \u001b[38;5;28;01mTrue\u001b[39;00m\n",
      "File \u001b[0;32m~/miniforge3/envs/deq/lib/python3.9/site-packages/wandb/apis/public/runs.py:139\u001b[0m, in \u001b[0;36mRuns.convert_objects\u001b[0;34m(self)\u001b[0m\n\u001b[1;32m    137\u001b[0m objs \u001b[38;5;241m=\u001b[39m []\n\u001b[1;32m    138\u001b[0m \u001b[38;5;28;01mif\u001b[39;00m \u001b[38;5;28mself\u001b[39m\u001b[38;5;241m.\u001b[39mlast_response \u001b[38;5;129;01mis\u001b[39;00m \u001b[38;5;28;01mNone\u001b[39;00m \u001b[38;5;129;01mor\u001b[39;00m \u001b[38;5;28mself\u001b[39m\u001b[38;5;241m.\u001b[39mlast_response\u001b[38;5;241m.\u001b[39mget(\u001b[38;5;124m\"\u001b[39m\u001b[38;5;124mproject\u001b[39m\u001b[38;5;124m\"\u001b[39m) \u001b[38;5;129;01mis\u001b[39;00m \u001b[38;5;28;01mNone\u001b[39;00m:\n\u001b[0;32m--> 139\u001b[0m     \u001b[38;5;28;01mraise\u001b[39;00m \u001b[38;5;167;01mValueError\u001b[39;00m(\u001b[38;5;124m\"\u001b[39m\u001b[38;5;124mCould not find project \u001b[39m\u001b[38;5;132;01m{}\u001b[39;00m\u001b[38;5;124m\"\u001b[39m\u001b[38;5;241m.\u001b[39mformat(\u001b[38;5;28mself\u001b[39m\u001b[38;5;241m.\u001b[39mproject))\n\u001b[1;32m    140\u001b[0m \u001b[38;5;28;01mfor\u001b[39;00m run_response \u001b[38;5;129;01min\u001b[39;00m \u001b[38;5;28mself\u001b[39m\u001b[38;5;241m.\u001b[39mlast_response[\u001b[38;5;124m\"\u001b[39m\u001b[38;5;124mproject\u001b[39m\u001b[38;5;124m\"\u001b[39m][\u001b[38;5;124m\"\u001b[39m\u001b[38;5;124mruns\u001b[39m\u001b[38;5;124m\"\u001b[39m][\u001b[38;5;124m\"\u001b[39m\u001b[38;5;124medges\u001b[39m\u001b[38;5;124m\"\u001b[39m]:\n\u001b[1;32m    141\u001b[0m     run \u001b[38;5;241m=\u001b[39m Run(\n\u001b[1;32m    142\u001b[0m         \u001b[38;5;28mself\u001b[39m\u001b[38;5;241m.\u001b[39mclient,\n\u001b[1;32m    143\u001b[0m         \u001b[38;5;28mself\u001b[39m\u001b[38;5;241m.\u001b[39mentity,\n\u001b[0;32m   (...)\u001b[0m\n\u001b[1;32m    147\u001b[0m         include_sweeps\u001b[38;5;241m=\u001b[39m\u001b[38;5;28mself\u001b[39m\u001b[38;5;241m.\u001b[39m_include_sweeps,\n\u001b[1;32m    148\u001b[0m     )\n",
      "\u001b[0;31mValueError\u001b[0m: Could not find project oc20-iclr"
     ]
    }
   ],
   "source": [
    "dfoc = get_runs_from_wandb(project=projectoc)"
   ]
  },
  {
   "cell_type": "code",
   "execution_count": 7,
   "metadata": {},
   "outputs": [
    {
     "name": "stdout",
     "output_type": "stream",
     "text": [
      "launchoc +cfg=ap2 +use=deq model.ln_type=layer_norm_sh preset=reg\n"
     ]
    }
   ],
   "source": [
    "print_restart_commands(dfoc, project=projectoc)"
   ]
  }
 ],
 "metadata": {
  "kernelspec": {
   "display_name": "deq",
   "language": "python",
   "name": "python3"
  },
  "language_info": {
   "codemirror_mode": {
    "name": "ipython",
    "version": 3
   },
   "file_extension": ".py",
   "mimetype": "text/x-python",
   "name": "python",
   "nbconvert_exporter": "python",
   "pygments_lexer": "ipython3",
   "version": "3.9.19"
  }
 },
 "nbformat": 4,
 "nbformat_minor": 2
}

{
 "cells": [
  {
   "cell_type": "code",
   "execution_count": 1,
   "metadata": {},
   "outputs": [],
   "source": [
    "import seaborn as sns\n",
    "import matplotlib.pyplot as plt\n",
    "import pandas as pd\n",
    "import numpy as np\n",
    "import wandb\n",
    "import copy\n",
    "import os, sys, pathlib\n",
    "import yaml\n",
    "import json\n",
    "import requests\n",
    "import datetime\n",
    "\n",
    "from deq2ff.plotting.style import (\n",
    "    set_seaborn_style,\n",
    "    PALETTE,\n",
    "    entity,\n",
    "    projectmd,\n",
    "    projectoc,\n",
    "    plotfolder,\n",
    ")\n",
    "\n",
    "from deq2ff.plotting.dashboard import get_runs_status_from_wandb, print_restart_commands"
   ]
  },
  {
   "cell_type": "code",
   "execution_count": 2,
   "metadata": {},
   "outputs": [
    {
     "name": "stdout",
     "output_type": "stream",
     "text": [
      "pDEQs apc ema2 benzene\n",
      " 48968\n",
      " epoch=37 / 500\n",
      " date=14 10:56\n",
      " hours=1.22\n"
     ]
    }
   ],
   "source": [
    "dfmd = get_runs_status_from_wandb(project=projectmd, hours_since=80)"
   ]
  },
  {
   "cell_type": "code",
   "execution_count": 3,
   "metadata": {},
   "outputs": [
    {
     "name": "stdout",
     "output_type": "stream",
     "text": [
      "launchrun +cfg=apc +use=deq ema2=True eval_with_ema=True target=benzene target=benzene\n"
     ]
    }
   ],
   "source": [
    "print_restart_commands(dfmd, project=projectmd, ignore_overrides=[\"load_checkpoint\"])"
   ]
  },
  {
   "cell_type": "code",
   "execution_count": 4,
   "metadata": {},
   "outputs": [
    {
     "name": "stdout",
     "output_type": "stream",
     "text": [
      "pDEQs ap data-2M optimbatchsize-16 optimmaxepochs-1 reg\n",
      " 48980\n",
      " epoch=0 / 1\n",
      " date=16 22:21\n",
      " hours=59.99\n",
      "pDEQs apc data-2M optimbatchsize-16 optimmaxepochs-1 reg\n",
      " 48981\n",
      " epoch=0 / 1\n",
      " date=16 22:21\n",
      " hours=59.99\n"
     ]
    }
   ],
   "source": [
    "dfoc = get_runs_status_from_wandb(project=projectoc, hours_since=72)"
   ]
  },
  {
   "cell_type": "code",
   "execution_count": 5,
   "metadata": {},
   "outputs": [
    {
     "name": "stdout",
     "output_type": "stream",
     "text": [
      "launchoc +cfg=ap +use=deq data=2M optim.batch_size=16 optim.max_epochs=1 preset=reg\n",
      "launchoc +cfg=apc +use=deq data=2M optim.batch_size=16 optim.max_epochs=1 preset=reg\n"
     ]
    }
   ],
   "source": [
    "print_restart_commands(dfoc, project=projectoc)"
   ]
  }
 ],
 "metadata": {
  "kernelspec": {
   "display_name": "deq",
   "language": "python",
   "name": "python3"
  },
  "language_info": {
   "codemirror_mode": {
    "name": "ipython",
    "version": 3
   },
   "file_extension": ".py",
   "mimetype": "text/x-python",
   "name": "python",
   "nbconvert_exporter": "python",
   "pygments_lexer": "ipython3",
   "version": "3.9.19"
  }
 },
 "nbformat": 4,
 "nbformat_minor": 2
}
